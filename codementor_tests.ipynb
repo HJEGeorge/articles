{
 "cells": [
  {
   "cell_type": "code",
   "execution_count": 5,
   "metadata": {
    "collapsed": true,
    "pycharm": {
     "is_executing": false,
     "name": "#%%\n"
    }
   },
   "outputs": [
    {
     "data": {
      "text/plain": "10"
     },
     "metadata": {},
     "output_type": "execute_result",
     "execution_count": 5
    }
   ],
   "source": [
    "# Henry George for CodementorX, August 3rd, 20:48 BST\n",
    "\n",
    "def count_change(money, coins):\n",
    "  \"\"\"Counts the number of unique ways of counting to 'money' with a set of coins.\"\"\"\n",
    "  \n",
    "  if money > 150 or len(coins) > 20:\n",
    "    print(\"Unfortunately this algorithm cannt cope with numbers this large.\")\n",
    "    return 0\n",
    "  \n",
    "  if any(not isinstance(coin, int) for coin in coins):\n",
    "    print(\"Please ensure all coins are whole numbers.\")\n",
    "    return 0\n",
    "  \n",
    "  if any(coin <= 0 for coin in coins):\n",
    "    print(\"Please ensure all coins are greater than 0.\")\n",
    "    return float('inf')\n",
    "  \n",
    "  # Remove duplicates\n",
    "  coins = list(set(coins))\n",
    "  \n",
    "  # A coin purse is a tuple, with each element in the tuple counting the number of a specific coin\n",
    "  base_coin_purse = (0,) * len(coins)\n",
    "  \n",
    "  # Ways In Progress is a hashset keeping track of ways as we build them\n",
    "  ways_in_progress = set([(add_to_coin_count(base_coin_purse, idx), coin) for idx, coin in enumerate(coins)])\n",
    "  \n",
    "  # Done ways is a hashset keeping track of the completed ways.\n",
    "  done_ways = set()\n",
    "  \n",
    "  while ways_in_progress:\n",
    "    way = ways_in_progress.pop()\n",
    "    \n",
    "    for idx, coin in enumerate(coins):\n",
    "      if way[1] + coin < money:\n",
    "        # We can continue adding to the way\n",
    "        ways_in_progress.add(way_append(way, coin, idx))\n",
    "      elif way[1] + coin == money:\n",
    "        # We have found a solution\n",
    "        done_ways.add(way_append(way, coin, idx))\n",
    "  return len(done_ways)\n",
    "\n",
    "def way_append(way, item, index):\n",
    "  \"\"\"Ways are represented by a tuple, the first item is a tuple with the number counts of each coin, \n",
    "  and the second item is the sum of these coins. This function adds a coin to the way, increasing the sum, and adding to the number of coins of a specific type, referred to by the index.\"\"\"\n",
    "  coins = add_to_coin_count(way[0], index)\n",
    "  return (coins, way[1] + item)\n",
    "\n",
    "def add_to_coin_count(coin_count, index):\n",
    "  \"\"\"Adds one to the count of a coin in a coin purse, the coin is specified by it's index. This function is not efficient, it needs to be sped up.\"\"\"\n",
    "  coins = list(coin_count)\n",
    "  coins[index] += 1\n",
    "  return tuple(coins)\n",
    "\n",
    "          "
   ]
  },
  {
   "cell_type": "code",
   "execution_count": null,
   "outputs": [],
   "source": [
    "import unittest\n",
    "# Note: the class must be called Test\n",
    "class Test(unittest.TestCase):\n",
    "  \n",
    "  def test_should_handle_the_example_case(self):\n",
    "    self.assertEqual(count_change(4,[1,2]), 3)\n",
    "  def test_should_handle_another_simple_case(self):\n",
    "    self.assertEqual(count_change(10,[5,2,3]), 4)\n",
    "  def test_should_handle_zero_appropriately(self):\n",
    "    self.assertEqual(count_change(10,[5,2,0]), float('inf'))\n",
    "  def test_should_handle_negatives(self):\n",
    "    self.assertEqual(count_change(10,[5,2,-2]), float('inf'))\n",
    "  def test_should_handle_empties(self):\n",
    "    self.assertEqual(count_change(0,[5,2,1]), 0)\n",
    "    self.assertEqual(count_change(10,[]), 0)\n",
    "    self.assertEqual(count_change(0,[]), 0)\n",
    "  def test_should_handle_duplicates(self):\n",
    "    self.assertEqual(count_change(10,[1,1,1,1,1,1,1,1,1,1,1,1]), 1)\n",
    "  def test_should_handle_duplicates(self):\n",
    "    self.assertEqual(count_change(10,[1,1.1]), 0)\n",
    "\n",
    "\n",
    "\n"
   ],
   "metadata": {
    "collapsed": false,
    "pycharm": {
     "name": "#%%\n"
    }
   }
  }
 ],
 "metadata": {
  "language_info": {
   "codemirror_mode": {
    "name": "ipython",
    "version": 2
   },
   "file_extension": ".py",
   "mimetype": "text/x-python",
   "name": "python",
   "nbconvert_exporter": "python",
   "pygments_lexer": "ipython2",
   "version": "2.7.6"
  },
  "kernelspec": {
   "name": "python3",
   "language": "python",
   "display_name": "Python 3"
  },
  "pycharm": {
   "stem_cell": {
    "cell_type": "raw",
    "source": [],
    "metadata": {
     "collapsed": false
    }
   }
  }
 },
 "nbformat": 4,
 "nbformat_minor": 0
}